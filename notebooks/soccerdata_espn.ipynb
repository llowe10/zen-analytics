{
 "cells": [
  {
   "cell_type": "code",
   "execution_count": 3,
   "metadata": {},
   "outputs": [
    {
     "data": {
      "text/html": [
       "<pre style=\"white-space:pre;overflow-x:auto;line-height:normal;font-family:Menlo,'DejaVu Sans Mono',consolas,'Courier New',monospace\"><span style=\"color: #7fbfbf; text-decoration-color: #7fbfbf\">[06/28/23 05:58:55] </span><span style=\"color: #000080; text-decoration-color: #000080\">INFO    </span> Saving cached data to C:\\Users\\lantz\\soccerdata\\data\\ESPN                <span style=\"color: #7f7f7f; text-decoration-color: #7f7f7f\">_common.py:89</span>\n",
       "</pre>\n"
      ],
      "text/plain": [
       "\u001b[2;36m[06/28/23 05:58:55]\u001b[0m\u001b[2;36m \u001b[0m\u001b[34mINFO    \u001b[0m Saving cached data to C:\\Users\\lantz\\soccerdata\\data\\ESPN                \u001b[2m_common.py\u001b[0m\u001b[2m:\u001b[0m\u001b[2m89\u001b[0m\n"
      ]
     },
     "metadata": {},
     "output_type": "display_data"
    },
    {
     "name": "stdout",
     "output_type": "stream",
     "text": [
      "Provides pd.DataFrames from JSON api available at http://site.api.espn.com.\n",
      "\n",
      "    Data will be downloaded as necessary and cached locally in\n",
      "    ``~/soccerdata/data/ESPN``.\n",
      "\n",
      "    Parameters\n",
      "    ----------\n",
      "    leagues : string or iterable, optional\n",
      "        IDs of leagues to include.\n",
      "    seasons : string, int or list, optional\n",
      "        Seasons to include. Supports multiple formats.\n",
      "        Examples: '16-17'; 2016; '2016-17'; [14, 15, 16]\n",
      "    proxy : 'tor' or dict or list(dict) or callable, optional\n",
      "        Use a proxy to hide your IP address. Valid options are:\n",
      "            - \"tor\": Uses the Tor network. Tor should be running in\n",
      "              the background on port 9050.\n",
      "            - dict: A dictionary with the proxy to use. The dict should be\n",
      "              a mapping of supported protocols to proxy addresses. For example::\n",
      "\n",
      "                  {\n",
      "                      'http': 'http://10.10.1.10:3128',\n",
      "                      'https': 'http://10.10.1.10:1080',\n",
      "                  }\n",
      "\n",
      "            - list(dict): A list of proxies to choose from. A different proxy will\n",
      "              be selected from this list after failed requests, allowing rotating\n",
      "              proxies.\n",
      "            - callable: A function that returns a valid proxy. This function will\n",
      "              be called after failed requests, allowing rotating proxies.\n",
      "    no_cache : bool\n",
      "        If True, will not use cached data.\n",
      "    no_store : bool\n",
      "        If True, will not store downloaded data.\n",
      "    data_dir : Path\n",
      "        Path to directory where data will be cached.\n",
      "    \n"
     ]
    }
   ],
   "source": [
    "import os\n",
    "import pandas as pd\n",
    "import soccerdata as sd"
   ]
  },
  {
   "attachments": {},
   "cell_type": "markdown",
   "metadata": {},
   "source": [
    "# MLS 2022 Season"
   ]
  },
  {
   "cell_type": "code",
   "execution_count": null,
   "metadata": {},
   "outputs": [],
   "source": [
    "espn = sd.ESPN(leagues=\"USA-MLS\", seasons=2022)\n",
    "print(espn.__doc__)"
   ]
  },
  {
   "attachments": {},
   "cell_type": "markdown",
   "metadata": {},
   "source": [
    "## Get season schedule"
   ]
  },
  {
   "cell_type": "code",
   "execution_count": 7,
   "metadata": {},
   "outputs": [
    {
     "name": "stdout",
     "output_type": "stream",
     "text": [
      "\n",
      "***** Export data *****\n",
      "exporting MLS 2022 season schedule...\n"
     ]
    },
    {
     "ename": "ValueError",
     "evalue": "Excel does not support datetimes with timezones. Please ensure that datetimes are timezone unaware before writing to Excel.",
     "output_type": "error",
     "traceback": [
      "\u001b[1;31m---------------------------------------------------------------------------\u001b[0m",
      "\u001b[1;31mValueError\u001b[0m                                Traceback (most recent call last)",
      "Cell \u001b[1;32mIn[7], line 11\u001b[0m\n\u001b[0;32m      9\u001b[0m \u001b[39melse\u001b[39;00m:\n\u001b[0;32m     10\u001b[0m     \u001b[39mprint\u001b[39m(\u001b[39m\"\u001b[39m\u001b[39mexporting MLS 2022 season schedule...\u001b[39m\u001b[39m\"\u001b[39m)\n\u001b[1;32m---> 11\u001b[0m     schedule\u001b[39m.\u001b[39;49mto_excel(path, index\u001b[39m=\u001b[39;49m\u001b[39mFalse\u001b[39;49;00m, header\u001b[39m=\u001b[39;49m\u001b[39mTrue\u001b[39;49;00m)\n\u001b[0;32m     12\u001b[0m     \u001b[39mprint\u001b[39m(\u001b[39m\"\u001b[39m\u001b[39m...export completed.\u001b[39m\u001b[39m\"\u001b[39m)\n",
      "File \u001b[1;32mc:\\Users\\lantz\\Documents\\Lantzen Coding\\GitHub\\zen-analytics\\venv\\lib\\site-packages\\pandas\\util\\_decorators.py:211\u001b[0m, in \u001b[0;36mdeprecate_kwarg.<locals>._deprecate_kwarg.<locals>.wrapper\u001b[1;34m(*args, **kwargs)\u001b[0m\n\u001b[0;32m    209\u001b[0m     \u001b[39melse\u001b[39;00m:\n\u001b[0;32m    210\u001b[0m         kwargs[new_arg_name] \u001b[39m=\u001b[39m new_arg_value\n\u001b[1;32m--> 211\u001b[0m \u001b[39mreturn\u001b[39;00m func(\u001b[39m*\u001b[39margs, \u001b[39m*\u001b[39m\u001b[39m*\u001b[39mkwargs)\n",
      "File \u001b[1;32mc:\\Users\\lantz\\Documents\\Lantzen Coding\\GitHub\\zen-analytics\\venv\\lib\\site-packages\\pandas\\util\\_decorators.py:211\u001b[0m, in \u001b[0;36mdeprecate_kwarg.<locals>._deprecate_kwarg.<locals>.wrapper\u001b[1;34m(*args, **kwargs)\u001b[0m\n\u001b[0;32m    209\u001b[0m     \u001b[39melse\u001b[39;00m:\n\u001b[0;32m    210\u001b[0m         kwargs[new_arg_name] \u001b[39m=\u001b[39m new_arg_value\n\u001b[1;32m--> 211\u001b[0m \u001b[39mreturn\u001b[39;00m func(\u001b[39m*\u001b[39margs, \u001b[39m*\u001b[39m\u001b[39m*\u001b[39mkwargs)\n",
      "File \u001b[1;32mc:\\Users\\lantz\\Documents\\Lantzen Coding\\GitHub\\zen-analytics\\venv\\lib\\site-packages\\pandas\\core\\generic.py:2374\u001b[0m, in \u001b[0;36mNDFrame.to_excel\u001b[1;34m(self, excel_writer, sheet_name, na_rep, float_format, columns, header, index, index_label, startrow, startcol, engine, merge_cells, encoding, inf_rep, verbose, freeze_panes, storage_options)\u001b[0m\n\u001b[0;32m   2361\u001b[0m \u001b[39mfrom\u001b[39;00m \u001b[39mpandas\u001b[39;00m\u001b[39m.\u001b[39;00m\u001b[39mio\u001b[39;00m\u001b[39m.\u001b[39;00m\u001b[39mformats\u001b[39;00m\u001b[39m.\u001b[39;00m\u001b[39mexcel\u001b[39;00m \u001b[39mimport\u001b[39;00m ExcelFormatter\n\u001b[0;32m   2363\u001b[0m formatter \u001b[39m=\u001b[39m ExcelFormatter(\n\u001b[0;32m   2364\u001b[0m     df,\n\u001b[0;32m   2365\u001b[0m     na_rep\u001b[39m=\u001b[39mna_rep,\n\u001b[1;32m   (...)\u001b[0m\n\u001b[0;32m   2372\u001b[0m     inf_rep\u001b[39m=\u001b[39minf_rep,\n\u001b[0;32m   2373\u001b[0m )\n\u001b[1;32m-> 2374\u001b[0m formatter\u001b[39m.\u001b[39;49mwrite(\n\u001b[0;32m   2375\u001b[0m     excel_writer,\n\u001b[0;32m   2376\u001b[0m     sheet_name\u001b[39m=\u001b[39;49msheet_name,\n\u001b[0;32m   2377\u001b[0m     startrow\u001b[39m=\u001b[39;49mstartrow,\n\u001b[0;32m   2378\u001b[0m     startcol\u001b[39m=\u001b[39;49mstartcol,\n\u001b[0;32m   2379\u001b[0m     freeze_panes\u001b[39m=\u001b[39;49mfreeze_panes,\n\u001b[0;32m   2380\u001b[0m     engine\u001b[39m=\u001b[39;49mengine,\n\u001b[0;32m   2381\u001b[0m     storage_options\u001b[39m=\u001b[39;49mstorage_options,\n\u001b[0;32m   2382\u001b[0m )\n",
      "File \u001b[1;32mc:\\Users\\lantz\\Documents\\Lantzen Coding\\GitHub\\zen-analytics\\venv\\lib\\site-packages\\pandas\\io\\formats\\excel.py:950\u001b[0m, in \u001b[0;36mExcelFormatter.write\u001b[1;34m(self, writer, sheet_name, startrow, startcol, freeze_panes, engine, storage_options)\u001b[0m\n\u001b[0;32m    947\u001b[0m     need_save \u001b[39m=\u001b[39m \u001b[39mTrue\u001b[39;00m\n\u001b[0;32m    949\u001b[0m \u001b[39mtry\u001b[39;00m:\n\u001b[1;32m--> 950\u001b[0m     writer\u001b[39m.\u001b[39;49m_write_cells(\n\u001b[0;32m    951\u001b[0m         formatted_cells,\n\u001b[0;32m    952\u001b[0m         sheet_name,\n\u001b[0;32m    953\u001b[0m         startrow\u001b[39m=\u001b[39;49mstartrow,\n\u001b[0;32m    954\u001b[0m         startcol\u001b[39m=\u001b[39;49mstartcol,\n\u001b[0;32m    955\u001b[0m         freeze_panes\u001b[39m=\u001b[39;49mfreeze_panes,\n\u001b[0;32m    956\u001b[0m     )\n\u001b[0;32m    957\u001b[0m \u001b[39mfinally\u001b[39;00m:\n\u001b[0;32m    958\u001b[0m     \u001b[39m# make sure to close opened file handles\u001b[39;00m\n\u001b[0;32m    959\u001b[0m     \u001b[39mif\u001b[39;00m need_save:\n",
      "File \u001b[1;32mc:\\Users\\lantz\\Documents\\Lantzen Coding\\GitHub\\zen-analytics\\venv\\lib\\site-packages\\pandas\\io\\excel\\_openpyxl.py:492\u001b[0m, in \u001b[0;36mOpenpyxlWriter._write_cells\u001b[1;34m(self, cells, sheet_name, startrow, startcol, freeze_panes)\u001b[0m\n\u001b[0;32m    487\u001b[0m     freeze_panes \u001b[39m=\u001b[39m cast(Tuple[\u001b[39mint\u001b[39m, \u001b[39mint\u001b[39m], freeze_panes)\n\u001b[0;32m    488\u001b[0m     wks\u001b[39m.\u001b[39mfreeze_panes \u001b[39m=\u001b[39m wks\u001b[39m.\u001b[39mcell(\n\u001b[0;32m    489\u001b[0m         row\u001b[39m=\u001b[39mfreeze_panes[\u001b[39m0\u001b[39m] \u001b[39m+\u001b[39m \u001b[39m1\u001b[39m, column\u001b[39m=\u001b[39mfreeze_panes[\u001b[39m1\u001b[39m] \u001b[39m+\u001b[39m \u001b[39m1\u001b[39m\n\u001b[0;32m    490\u001b[0m     )\n\u001b[1;32m--> 492\u001b[0m \u001b[39mfor\u001b[39;00m cell \u001b[39min\u001b[39;00m cells:\n\u001b[0;32m    493\u001b[0m     xcell \u001b[39m=\u001b[39m wks\u001b[39m.\u001b[39mcell(\n\u001b[0;32m    494\u001b[0m         row\u001b[39m=\u001b[39mstartrow \u001b[39m+\u001b[39m cell\u001b[39m.\u001b[39mrow \u001b[39m+\u001b[39m \u001b[39m1\u001b[39m, column\u001b[39m=\u001b[39mstartcol \u001b[39m+\u001b[39m cell\u001b[39m.\u001b[39mcol \u001b[39m+\u001b[39m \u001b[39m1\u001b[39m\n\u001b[0;32m    495\u001b[0m     )\n\u001b[0;32m    496\u001b[0m     xcell\u001b[39m.\u001b[39mvalue, fmt \u001b[39m=\u001b[39m \u001b[39mself\u001b[39m\u001b[39m.\u001b[39m_value_with_fmt(cell\u001b[39m.\u001b[39mval)\n",
      "File \u001b[1;32mc:\\Users\\lantz\\Documents\\Lantzen Coding\\GitHub\\zen-analytics\\venv\\lib\\site-packages\\pandas\\io\\formats\\excel.py:888\u001b[0m, in \u001b[0;36mExcelFormatter.get_formatted_cells\u001b[1;34m(self)\u001b[0m\n\u001b[0;32m    886\u001b[0m \u001b[39mdef\u001b[39;00m \u001b[39mget_formatted_cells\u001b[39m(\u001b[39mself\u001b[39m) \u001b[39m-\u001b[39m\u001b[39m>\u001b[39m Iterable[ExcelCell]:\n\u001b[0;32m    887\u001b[0m     \u001b[39mfor\u001b[39;00m cell \u001b[39min\u001b[39;00m itertools\u001b[39m.\u001b[39mchain(\u001b[39mself\u001b[39m\u001b[39m.\u001b[39m_format_header(), \u001b[39mself\u001b[39m\u001b[39m.\u001b[39m_format_body()):\n\u001b[1;32m--> 888\u001b[0m         cell\u001b[39m.\u001b[39mval \u001b[39m=\u001b[39m \u001b[39mself\u001b[39;49m\u001b[39m.\u001b[39;49m_format_value(cell\u001b[39m.\u001b[39;49mval)\n\u001b[0;32m    889\u001b[0m         \u001b[39myield\u001b[39;00m cell\n",
      "File \u001b[1;32mc:\\Users\\lantz\\Documents\\Lantzen Coding\\GitHub\\zen-analytics\\venv\\lib\\site-packages\\pandas\\io\\formats\\excel.py:602\u001b[0m, in \u001b[0;36mExcelFormatter._format_value\u001b[1;34m(self, val)\u001b[0m\n\u001b[0;32m    600\u001b[0m         val \u001b[39m=\u001b[39m \u001b[39mfloat\u001b[39m(\u001b[39mself\u001b[39m\u001b[39m.\u001b[39mfloat_format \u001b[39m%\u001b[39m val)\n\u001b[0;32m    601\u001b[0m \u001b[39mif\u001b[39;00m \u001b[39mgetattr\u001b[39m(val, \u001b[39m\"\u001b[39m\u001b[39mtzinfo\u001b[39m\u001b[39m\"\u001b[39m, \u001b[39mNone\u001b[39;00m) \u001b[39mis\u001b[39;00m \u001b[39mnot\u001b[39;00m \u001b[39mNone\u001b[39;00m:\n\u001b[1;32m--> 602\u001b[0m     \u001b[39mraise\u001b[39;00m \u001b[39mValueError\u001b[39;00m(\n\u001b[0;32m    603\u001b[0m         \u001b[39m\"\u001b[39m\u001b[39mExcel does not support datetimes with \u001b[39m\u001b[39m\"\u001b[39m\n\u001b[0;32m    604\u001b[0m         \u001b[39m\"\u001b[39m\u001b[39mtimezones. Please ensure that datetimes \u001b[39m\u001b[39m\"\u001b[39m\n\u001b[0;32m    605\u001b[0m         \u001b[39m\"\u001b[39m\u001b[39mare timezone unaware before writing to Excel.\u001b[39m\u001b[39m\"\u001b[39m\n\u001b[0;32m    606\u001b[0m     )\n\u001b[0;32m    607\u001b[0m \u001b[39mreturn\u001b[39;00m val\n",
      "\u001b[1;31mValueError\u001b[0m: Excel does not support datetimes with timezones. Please ensure that datetimes are timezone unaware before writing to Excel."
     ]
    }
   ],
   "source": [
    "schedule = espn.read_schedule()\n",
    "path = 'C:/Users/lantz/Documents/My Tableau Repository/Datasources/espn/mls-2022-season-schedule.xlsx'\n",
    "\n",
    "### export data\n",
    "print(\"\\n***** Export data *****\")\n",
    "if os.path.isfile(path):\n",
    "    print(\"{} already exists.\".format(path))\n",
    "    pass\n",
    "else:\n",
    "    print(\"exporting MLS 2022 season schedule...\")\n",
    "    schedule.to_excel(path, index=False, header=True)\n",
    "    print(\"...export completed.\")"
   ]
  },
  {
   "attachments": {},
   "cell_type": "markdown",
   "metadata": {},
   "source": [
    "## Get match lineup"
   ]
  },
  {
   "attachments": {},
   "cell_type": "markdown",
   "metadata": {},
   "source": [
    "# Scrape data from URL"
   ]
  },
  {
   "cell_type": "code",
   "execution_count": 8,
   "metadata": {},
   "outputs": [
    {
     "data": {
      "text/html": [
       "<pre style=\"white-space:pre;overflow-x:auto;line-height:normal;font-family:Menlo,'DejaVu Sans Mono',consolas,'Courier New',monospace\"><span style=\"color: #7fbfbf; text-decoration-color: #7fbfbf\">[06/29/23 21:22:46] </span><span style=\"color: #000080; text-decoration-color: #000080\">INFO    </span> Saving cached data to C:\\Users\\lantz\\soccerdata\\data\\ESPN                <span style=\"color: #7f7f7f; text-decoration-color: #7f7f7f\">_common.py:89</span>\n",
       "</pre>\n"
      ],
      "text/plain": [
       "\u001b[2;36m[06/29/23 21:22:46]\u001b[0m\u001b[2;36m \u001b[0m\u001b[34mINFO    \u001b[0m Saving cached data to C:\\Users\\lantz\\soccerdata\\data\\ESPN                \u001b[2m_common.py\u001b[0m\u001b[2m:\u001b[0m\u001b[2m89\u001b[0m\n"
      ]
     },
     "metadata": {},
     "output_type": "display_data"
    },
    {
     "data": {
      "text/html": [
       "<pre style=\"white-space:pre;overflow-x:auto;line-height:normal;font-family:Menlo,'DejaVu Sans Mono',consolas,'Courier New',monospace\"><span style=\"color: #7fbfbf; text-decoration-color: #7fbfbf\">                    </span><span style=\"color: #000080; text-decoration-color: #000080\">INFO    </span> No seasons provided. Will retrieve data for the last <span style=\"color: #008080; text-decoration-color: #008080; font-weight: bold\">5</span> seasons.         <span style=\"color: #7f7f7f; text-decoration-color: #7f7f7f\">_common.py:288</span>\n",
       "</pre>\n"
      ],
      "text/plain": [
       "\u001b[2;36m                   \u001b[0m\u001b[2;36m \u001b[0m\u001b[34mINFO    \u001b[0m No seasons provided. Will retrieve data for the last \u001b[1;36m5\u001b[0m seasons.         \u001b[2m_common.py\u001b[0m\u001b[2m:\u001b[0m\u001b[2m288\u001b[0m\n"
      ]
     },
     "metadata": {},
     "output_type": "display_data"
    },
    {
     "name": "stdout",
     "output_type": "stream",
     "text": [
      "Provides pd.DataFrames from JSON api available at http://site.api.espn.com.\n",
      "\n",
      "    Data will be downloaded as necessary and cached locally in\n",
      "    ``~/soccerdata/data/ESPN``.\n",
      "\n",
      "    Parameters\n",
      "    ----------\n",
      "    leagues : string or iterable, optional\n",
      "        IDs of leagues to include.\n",
      "    seasons : string, int or list, optional\n",
      "        Seasons to include. Supports multiple formats.\n",
      "        Examples: '16-17'; 2016; '2016-17'; [14, 15, 16]\n",
      "    proxy : 'tor' or dict or list(dict) or callable, optional\n",
      "        Use a proxy to hide your IP address. Valid options are:\n",
      "            - \"tor\": Uses the Tor network. Tor should be running in\n",
      "              the background on port 9050.\n",
      "            - dict: A dictionary with the proxy to use. The dict should be\n",
      "              a mapping of supported protocols to proxy addresses. For example::\n",
      "\n",
      "                  {\n",
      "                      'http': 'http://10.10.1.10:3128',\n",
      "                      'https': 'http://10.10.1.10:1080',\n",
      "                  }\n",
      "\n",
      "            - list(dict): A list of proxies to choose from. A different proxy will\n",
      "              be selected from this list after failed requests, allowing rotating\n",
      "              proxies.\n",
      "            - callable: A function that returns a valid proxy. This function will\n",
      "              be called after failed requests, allowing rotating proxies.\n",
      "    no_cache : bool\n",
      "        If True, will not use cached data.\n",
      "    no_store : bool\n",
      "        If True, will not store downloaded data.\n",
      "    data_dir : Path\n",
      "        Path to directory where data will be cached.\n",
      "    \n"
     ]
    }
   ],
   "source": [
    "espn = sd.ESPN()\n",
    "print(espn.__doc__)"
   ]
  },
  {
   "cell_type": "code",
   "execution_count": 14,
   "metadata": {},
   "outputs": [
    {
     "data": {
      "text/plain": [
       "<_io.BytesIO at 0x21f55b38cc0>"
      ]
     },
     "execution_count": 14,
     "metadata": {},
     "output_type": "execute_result"
    }
   ],
   "source": [
    "from pathlib import Path\n",
    "\n",
    "source_url = \"https://www.espn.com/soccer/team/stats/_/id/21300\"\n",
    "path = Path('C:/Users/lantz/Documents/My Tableau Repository/Datasources/espn/charlotte-fc.csv')\n",
    "espn.get(url=source_url, filepath=path)"
   ]
  }
 ],
 "metadata": {
  "kernelspec": {
   "display_name": "venv",
   "language": "python",
   "name": "python3"
  },
  "language_info": {
   "codemirror_mode": {
    "name": "ipython",
    "version": 3
   },
   "file_extension": ".py",
   "mimetype": "text/x-python",
   "name": "python",
   "nbconvert_exporter": "python",
   "pygments_lexer": "ipython3",
   "version": "3.9.1"
  },
  "orig_nbformat": 4
 },
 "nbformat": 4,
 "nbformat_minor": 2
}
