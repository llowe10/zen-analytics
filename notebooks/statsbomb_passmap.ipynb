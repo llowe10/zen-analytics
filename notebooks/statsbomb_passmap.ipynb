{
 "cells": [
  {
   "cell_type": "code",
   "execution_count": 14,
   "metadata": {},
   "outputs": [],
   "source": [
    "import pandas as pd\n",
    "import matplotlib.pyplot as plt\n",
    "import matplotlib.patches as pat\n",
    "\n",
    "df = pd.read_csv(r\"C:\\Users\\lantz\\Documents\\My Tableau Repository\\Datasources\\statsbomb\\match_events.csv\")\n",
    "\n",
    "def draw_pitch(ax):\n",
    "    # focus on only half of the pitch\n",
    "    #Pitch Outline & Centre Line\n",
    "    Pitch = plt.Rectangle([0,0], width = 120, height = 80, fill = False)\n",
    "    #Left, Right Penalty Area and midline\n",
    "    LeftPenalty = plt.Rectangle([0,22.3], width = 14.6, height = 35.3, fill = False)\n",
    "    RightPenalty = plt.Rectangle([105.4,22.3], width = 14.6, height = 35.3, fill = False)\n",
    "    midline = pat.ConnectionPatch([60,0], [60,80], \"data\", \"data\")\n",
    "\n",
    "    #Left, Right 6-yard Box\n",
    "    LeftSixYard = plt.Rectangle([0,32], width = 4.9, height = 16, fill = False)\n",
    "    RightSixYard = plt.Rectangle([115.1,32], width = 4.9, height = 16, fill = False)\n",
    "\n",
    "\n",
    "    #Prepare Circles\n",
    "    centreCircle = plt.Circle((60,40),8.1,color=\"black\", fill = False)\n",
    "    centreSpot = plt.Circle((60,40),0.71,color=\"black\")\n",
    "    #Penalty spots and Arcs around penalty boxes\n",
    "    leftPenSpot = plt.Circle((9.7,40),0.71,color=\"black\")\n",
    "    rightPenSpot = plt.Circle((110.3,40),0.71,color=\"black\")\n",
    "    leftArc = pat.Arc((9.7,40),height=16.2,width=16.2,angle=0,theta1=310,theta2=50,color=\"black\")\n",
    "    rightArc = pat.Arc((110.3,40),height=16.2,width=16.2,angle=0,theta1=130,theta2=230,color=\"black\")\n",
    "    \n",
    "    element = [Pitch, LeftPenalty, RightPenalty, midline, LeftSixYard, RightSixYard, centreCircle, \n",
    "               centreSpot, rightPenSpot, leftPenSpot, leftArc, rightArc]\n",
    "    for i in element:\n",
    "        ax.add_patch(i)"
   ]
  },
  {
   "cell_type": "code",
   "execution_count": 12,
   "metadata": {},
   "outputs": [
    {
     "data": {
      "image/png": "[encoded data removed]",
      "text/plain": [
       "<Figure size 700x500 with 1 Axes>"
      ]
     },
     "metadata": {},
     "output_type": "display_data"
    }
   ],
   "source": [
    "fig=plt.figure() #set up the figures\n",
    "fig.set_size_inches(7, 5)\n",
    "ax=fig.add_subplot(1,1,1)\n",
    "draw_pitch(ax) #overlay our different objects on the pitch\n",
    "plt.ylim(-2, 82)\n",
    "plt.xlim(-2, 122)\n",
    "plt.axis('off')\n",
    "plt.show()"
   ]
  },
  {
   "cell_type": "code",
   "execution_count": null,
   "metadata": {},
   "outputs": [],
   "source": [
    "# loading the json file\n",
    "passes = df[(df['type'] == \"Pass\")] # get passing information\n",
    "pass_column = [i for i in df.columns if i.startswith(\"pass\")]\n",
    "passes = passes[[\"id\", \"period\", \"timestamp\", \"location\", \"pass_end_location\", \"pass_recipient_name\"]]"
   ]
  }
 ],
 "metadata": {
  "kernelspec": {
   "display_name": "venv",
   "language": "python",
   "name": "python3"
  },
  "language_info": {
   "codemirror_mode": {
    "name": "ipython",
    "version": 3
   },
   "file_extension": ".py",
   "mimetype": "text/x-python",
   "name": "python",
   "nbconvert_exporter": "python",
   "pygments_lexer": "ipython3",
   "version": "3.9.1"
  },
  "orig_nbformat": 4
 },
 "nbformat": 4,
 "nbformat_minor": 2
}
