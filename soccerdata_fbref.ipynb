{
 "cells": [
  {
   "cell_type": "code",
   "execution_count": 7,
   "metadata": {},
   "outputs": [
    {
     "data": {
      "text/plain": [
       "['Big 5 European Leagues Combined',\n",
       " 'ENG-Premier League',\n",
       " 'ESP-La Liga',\n",
       " 'FRA-Ligue 1',\n",
       " 'GER-Bundesliga',\n",
       " 'INT-World Cup',\n",
       " 'ITA-Serie A']"
      ]
     },
     "execution_count": 7,
     "metadata": {},
     "output_type": "execute_result"
    }
   ],
   "source": [
    "import os\n",
    "import pandas as pd\n",
    "import soccerdata as sd\n",
    "\n",
    "leagues = \"ENG-Premier League\"\n",
    "seasons = '2223'\n",
    "path = 'C:/Users/lantz/Documents/My Tableau Repository/Datasources/fbref/player-stats-' + leagues + '-' + seasons + '.csv'\n",
    "\n",
    "sd.FBref.available_leagues()"
   ]
  },
  {
   "attachments": {},
   "cell_type": "markdown",
   "metadata": {},
   "source": [
    "### English Premier League 2022 season"
   ]
  },
  {
   "cell_type": "code",
   "execution_count": 4,
   "metadata": {},
   "outputs": [
    {
     "data": {
      "text/html": [
       "<pre style=\"white-space:pre;overflow-x:auto;line-height:normal;font-family:Menlo,'DejaVu Sans Mono',consolas,'Courier New',monospace\"><span style=\"color: #7fbfbf; text-decoration-color: #7fbfbf\">[06/18/23 19:10:39] </span><span style=\"color: #000080; text-decoration-color: #000080\">INFO    </span> Saving cached data to C:\\Users\\lantz\\soccerdata\\data\\FBref               <span style=\"color: #7f7f7f; text-decoration-color: #7f7f7f\">_common.py:89</span>\n",
       "</pre>\n"
      ],
      "text/plain": [
       "\u001b[2;36m[06/18/23 19:10:39]\u001b[0m\u001b[2;36m \u001b[0m\u001b[34mINFO    \u001b[0m Saving cached data to C:\\Users\\lantz\\soccerdata\\data\\FBref               \u001b[2m_common.py\u001b[0m\u001b[2m:\u001b[0m\u001b[2m89\u001b[0m\n"
      ]
     },
     "metadata": {},
     "output_type": "display_data"
    },
    {
     "name": "stdout",
     "output_type": "stream",
     "text": [
      "Provides pd.DataFrames from data at http://fbref.com.\n",
      "\n",
      "    Data will be downloaded as necessary and cached locally in\n",
      "    ``~/soccerdata/data/FBref``.\n",
      "\n",
      "    Parameters\n",
      "    ----------\n",
      "    leagues : string or iterable, optional\n",
      "        IDs of leagues to include. For efficiently reading data from the Top-5\n",
      "        European leagues, use \"Big 5 European Leagues Combined\".\n",
      "    seasons : string, int or list, optional\n",
      "        Seasons to include. Supports multiple formats.\n",
      "        Examples: '16-17'; 2016; '2016-17'; [14, 15, 16]\n",
      "    proxy : 'tor' or dict or list(dict) or callable, optional\n",
      "        Use a proxy to hide your IP address. Valid options are:\n",
      "            - \"tor\": Uses the Tor network. Tor should be running in\n",
      "              the background on port 9050.\n",
      "            - dict: A dictionary with the proxy to use. The dict should be\n",
      "              a mapping of supported protocols to proxy addresses. For example::\n",
      "\n",
      "                  {\n",
      "                      'http': 'http://10.10.1.10:3128',\n",
      "                      'https': 'http://10.10.1.10:1080',\n",
      "                  }\n",
      "\n",
      "            - list(dict): A list of proxies to choose from. A different proxy will\n",
      "              be selected from this list after failed requests, allowing rotating\n",
      "              proxies.\n",
      "            - callable: A function that returns a valid proxy. This function will\n",
      "              be called after failed requests, allowing rotating proxies.\n",
      "    no_cache : bool\n",
      "        If True, will not use cached data.\n",
      "    no_store : bool\n",
      "        If True, will not store downloaded data.\n",
      "    data_dir : Path\n",
      "        Path to directory where data will be cached.\n",
      "    \n"
     ]
    }
   ],
   "source": [
    "fbref = sd.FBref(leagues=\"ENG-Premier League\", seasons=seasons)\n",
    "print(fbref.__doc__)"
   ]
  },
  {
   "cell_type": "code",
   "execution_count": 13,
   "metadata": {},
   "outputs": [],
   "source": [
    "### Get data\n",
    "stats_pd = fbref.read_player_season_stats(stat_type='standard')\n",
    "\n",
    "### export data\n",
    "print(\"\\ncreating file for player season data...\")\n",
    "stats_pd.to_csv(path)\n",
    "print(\"...export completed.\")"
   ]
  }
 ],
 "metadata": {
  "kernelspec": {
   "display_name": "base",
   "language": "python",
   "name": "python3"
  },
  "language_info": {
   "codemirror_mode": {
    "name": "ipython",
    "version": 3
   },
   "file_extension": ".py",
   "mimetype": "text/x-python",
   "name": "python",
   "nbconvert_exporter": "python",
   "pygments_lexer": "ipython3",
   "version": "3.9.1"
  },
  "orig_nbformat": 4
 },
 "nbformat": 4,
 "nbformat_minor": 2
}
